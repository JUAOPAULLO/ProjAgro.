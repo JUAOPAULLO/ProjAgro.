{
  "cells": [
    {
      "cell_type": "markdown",
      "metadata": {
        "id": "view-in-github",
        "colab_type": "text"
      },
      "source": [
        "<a href=\"https://colab.research.google.com/github/JUAOPAULLO/ProjAgro./blob/main/PROJETO_AGRO.ipynb\" target=\"_parent\"><img src=\"https://colab.research.google.com/assets/colab-badge.svg\" alt=\"Open In Colab\"/></a>"
      ]
    },
    {
      "cell_type": "markdown",
      "source": [
        "#           PROJETO AGRO:\n",
        "\n",
        "\n"
      ],
      "metadata": {
        "id": "7ovhlA3fYOqn"
      }
    },
    {
      "cell_type": "code",
      "source": [
        "# valores do animais por @.\n",
        "boi = 240.00\n",
        "vaca = 216.00\n",
        "ovelha = 202.50\n",
        "cabra = 202.50\n",
        "porco = 101.00\n",
        "tipo_animal = 'boi,vaca,ovelha,cabra,porco'      # tipo_animal e peso e valor podem ser gerados assim que forem usados mais fiz assim para não me atrapal\n",
        "peso = 0\n",
        "valor = peso/15*boi\n",
        "\n",
        "nome_proprietario = input('Digite seu nome. ')\n",
        "\n",
        "while True:\n",
        "  tipo_animal = input('Digite o tipo do animal entre: (Boi, Vaca, Ovelha, Cabra,Porco) ')\n",
        "  peso = float(input('Digite o peso do animal '))\n",
        "\n",
        "  if tipo_animal == \"boi\":\n",
        "   valor = peso/15*boi\n",
        "   print(f'O valor do seu boi é {valor:.2f}')\n",
        "   print('Assim que possivel atualizaremos o sistema com melhorias de informação.')\n",
        "\n",
        "  elif tipo_animal == \"vaca\":\n",
        "   valor = peso/15*vaca\n",
        "   print(f'O valor da sua vaca é {valor:.2f}')\n",
        "\n",
        "  elif tipo_animal == \"ovelha\":\n",
        "   valor = peso/15*ovelha\n",
        "   print(f'O valor da sua ovelha é {valor:.2f}')\n",
        "   print('Assim que possivel atualizaremos o sistema com melhorias de informação.')\n",
        "  elif tipo_animal == \"cabra\":\n",
        "   valor = peso/15*cabra\n",
        "   print(f'O valor da sua cabra é {valor:.2f}')\n",
        "   print('Assim que possivel atualizaremos o sistema com melhorias de informação.')\n",
        "  elif tipo_animal == \"porco\":\n",
        "   valor = peso/15*porco\n",
        "   print(f'O valor do seu porco é {valor:.2f}')\n",
        "   print('Assim que possivel atualizaremos o sistema com melhorias de informação.')\n",
        "  else:\n",
        "   print('Assim que possivel atualizaremos o sistema com melhorias de informação.')\n",
        "   break\n",
        "\n",
        "\n",
        "\n",
        "\n",
        "\n",
        "\n",
        "\n",
        "\n",
        "\n",
        "\n",
        "\n",
        "\n",
        "\n",
        "\n",
        "\n",
        "\n",
        "\n",
        "\n",
        "\n",
        "\n",
        "\n",
        "\n",
        "\n",
        "\n",
        "\n",
        "\n",
        "\n",
        "\n"
      ],
      "metadata": {
        "id": "bSQyndi5Yu9X"
      },
      "execution_count": null,
      "outputs": []
    }
  ],
  "metadata": {
    "colab": {
      "provenance": [],
      "authorship_tag": "ABX9TyMlHmbDZwVO71kRM872bT9S",
      "include_colab_link": true
    },
    "kernelspec": {
      "display_name": "Python 3",
      "name": "python3"
    },
    "language_info": {
      "name": "python"
    }
  },
  "nbformat": 4,
  "nbformat_minor": 0
}